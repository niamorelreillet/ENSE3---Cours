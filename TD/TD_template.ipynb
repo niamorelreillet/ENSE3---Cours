{
 "cells": [
  {
   "cell_type": "markdown",
   "metadata": {},
   "source": [
    " # Stationary thermal balance of a two-layer corium pool\n",
    "---"
   ]
  },
  {
   "cell_type": "code",
   "execution_count": 26,
   "metadata": {},
   "outputs": [],
   "source": [
    "import sympy\n",
    "import math\n",
    "import numpy as np\n",
    "import matplotlib.pyplot as plt\n",
    "import scipy"
   ]
  },
  {
   "cell_type": "code",
   "execution_count": 27,
   "metadata": {},
   "outputs": [],
   "source": [
    "from math import pi  \n",
    "g = 9.81\n",
    "sigma = 5.67E-08"
   ]
  },
  {
   "cell_type": "markdown",
   "metadata": {},
   "source": [
    "Set decay power and hemisphere radius"
   ]
  },
  {
   "cell_type": "code",
   "execution_count": 28,
   "metadata": {},
   "outputs": [],
   "source": [
    "Pres=15E6\n",
    "R=2"
   ]
  },
  {
   "cell_type": "markdown",
   "metadata": {},
   "source": [
    "## 1. Oxide pool"
   ]
  },
  {
   "cell_type": "markdown",
   "metadata": {},
   "source": [
    "Set $\\rho^{ox},\\lambda^{ox},\\nu^{ox},Cp^{ox},\\beta^{ox},T_{liq}^{ox},H^{ox}$"
   ]
  },
  {
   "cell_type": "code",
   "execution_count": 29,
   "metadata": {},
   "outputs": [],
   "source": [
    "oxide = {\n",
    "      \"rho\":    8000,\n",
    "      \"lambda\": 5,\n",
    "      \"nu\":     5E-7,\n",
    "      \"Cp\":     500,\n",
    "      \"beta\":   1E-4,\n",
    "      \"Tliq\":   2900,\n",
    "      \"H\":      1.5\n",
    "    }"
   ]
  },
  {
   "cell_type": "markdown",
   "metadata": {},
   "source": [
    "Calculate $V^{ox}$, $S_{lat}^{ox}$, $S_{up}^{ox}$"
   ]
  },
  {
   "cell_type": "markdown",
   "metadata": {},
   "source": [
    ">$V^{ox}=\\frac{\\pi}{3}\\left(H^{ox}\\right)^2\\left(3R-H^{ox}\\right)$\n",
    "\n",
    ">$S_{lat}^{ox}=2\\pi R H^{ox}$\n",
    "\n",
    ">$S_{up}^{ox}=\\pi\\left(R^2-\\left(R-H^{ox}\\right)^2\\right)$"
   ]
  },
  {
   "cell_type": "code",
   "execution_count": 30,
   "metadata": {},
   "outputs": [],
   "source": [
    "# write your code!"
   ]
  },
  {
   "cell_type": "markdown",
   "metadata": {},
   "source": [
    "Calculate $Ra_i^{ox}$"
   ]
  },
  {
   "cell_type": "code",
   "execution_count": 31,
   "metadata": {},
   "outputs": [],
   "source": [
    "# write your code!"
   ]
  },
  {
   "cell_type": "markdown",
   "metadata": {},
   "source": [
    "Calculate $Nu^{ox}_{lat}$ based on \"BALI downward\" correlation $Nu^{ox}_{lat}=0.131\\left(Ra_i^{ox}\\right)^{0.25}\\left(\\frac{H^{ox}}{R}\\right)^{0.19}$"
   ]
  },
  {
   "cell_type": "code",
   "execution_count": 32,
   "metadata": {},
   "outputs": [],
   "source": [
    "# write your code!"
   ]
  },
  {
   "cell_type": "markdown",
   "metadata": {},
   "source": [
    "Calculate $Nu^{ox}_{up}$ based on \"BALI upward\" correlation $Nu^{ox}_{up}=0.381\\left(Ra_i^{ox}\\right)^{0.234}$"
   ]
  },
  {
   "cell_type": "code",
   "execution_count": 33,
   "metadata": {},
   "outputs": [],
   "source": [
    "# write your code!"
   ]
  },
  {
   "cell_type": "markdown",
   "metadata": {},
   "source": [
    "Calculate $T^{ox}$"
   ]
  },
  {
   "cell_type": "code",
   "execution_count": 34,
   "metadata": {},
   "outputs": [],
   "source": [
    "# write your code!"
   ]
  },
  {
   "cell_type": "markdown",
   "metadata": {},
   "source": [
    "Calculate $\\phi_{lat}^{ox}$ and $\\phi_{up}^{ox}$"
   ]
  },
  {
   "cell_type": "code",
   "execution_count": 35,
   "metadata": {},
   "outputs": [],
   "source": [
    "# write your code!"
   ]
  },
  {
   "cell_type": "markdown",
   "metadata": {},
   "source": [
    "Plot the lateral flux profile $\\varphi_{lat}^{ox}(z) = \\phi_{lat}^{ox} f(z)$ along the vessel wall (considering the following shape function $f(z)$) and compare its maximum value to the pessimistic value of 1.5MW.m$^{-2}$ for the critical heaf flux associated with the external cooling of the vessel wall"
   ]
  },
  {
   "cell_type": "markdown",
   "metadata": {},
   "source": [
    ">$f(z)=0.25+0.75 \\times c \\times \\cos^3(\\theta)$ \n",
    "\n",
    "> with $\\displaystyle \\theta=\\sin^{-1}\\left(1-\\frac{z}{R} \\right)$, $\\displaystyle \\theta^{ox}=\\sin^{-1}\\left(1-\\frac{H^{ox}}{R} \\right)$\n",
    "\n",
    "> and $\\displaystyle c = \\frac{8\\left(1-\\sin\\theta^{ox}\\right)}{3\\left(\\frac{\\pi}{2} - \\theta^{ox}\\right)-3\\sin\\theta^{ox}\\cos\\theta^{ox} - 2\\sin\\theta^{ox}\\cos^3\\theta^{ox}}$ "
   ]
  },
  {
   "cell_type": "code",
   "execution_count": 36,
   "metadata": {},
   "outputs": [],
   "source": [
    "# write your code!"
   ]
  },
  {
   "cell_type": "markdown",
   "metadata": {},
   "source": [
    "# 2. Refractory crust and vessel wall ablation"
   ]
  },
  {
   "cell_type": "code",
   "execution_count": 37,
   "metadata": {},
   "outputs": [],
   "source": [
    "vessel = {\n",
    "      \"lambda\": 40,\n",
    "      \"e\":     0.2,\n",
    "      \"Tfus\": 1700,\n",
    "    }\n",
    "Tbc=500"
   ]
  },
  {
   "cell_type": "markdown",
   "metadata": {},
   "source": [
    "Calculate and plot the crust thickness and vessel wall residual thickness as a function of height ($z \\in [0,H^{ox}]$)"
   ]
  },
  {
   "cell_type": "code",
   "execution_count": 38,
   "metadata": {},
   "outputs": [],
   "source": [
    "# write your code!"
   ]
  },
  {
   "cell_type": "markdown",
   "metadata": {},
   "source": [
    "# 3. Metallic pool"
   ]
  },
  {
   "cell_type": "markdown",
   "metadata": {},
   "source": [
    "Set $\\rho^{met},\\lambda^{met},\\nu^{met},Cp^{met},\\beta^{met},T_{liq}^{met},H^{met}$"
   ]
  },
  {
   "cell_type": "code",
   "execution_count": 39,
   "metadata": {},
   "outputs": [],
   "source": [
    "metal = {\n",
    "      \"rho\":    7000,\n",
    "      \"lambda\": 25,\n",
    "      \"nu\":     5E-7,\n",
    "      \"Cp\":     800.0,\n",
    "      \"beta\":   1E-4,\n",
    "      \"Tliq\":   1700,\n",
    "      \"H\":      0.5\n",
    "    }"
   ]
  },
  {
   "cell_type": "markdown",
   "metadata": {},
   "source": [
    "Calculate $Pr^{met}$\n",
    "\n",
    "Define function $Ra^{met}\\left[\\Delta T\\right]$ and evaluate it for $\\Delta T=100$K\n",
    "\n",
    "Shall we expect a turbulent or laminar flow?"
   ]
  },
  {
   "cell_type": "markdown",
   "metadata": {},
   "source": [
    ">$\\alpha^{met}=\\frac{\\lambda^{met}}{\\rho^{met}Cp^{ox}}$\n",
    "\n",
    ">$Pr^{met}=\\frac{\\nu^{met}}{\\alpha^{met}}$\n",
    "\n",
    ">$Ra^{met}\\left[\\Delta T\\right]=\\frac{g\\beta^{met}\\left(H^{met}\\right)^3 \\Delta T}{\\nu^{met}\\alpha^{met}}$"
   ]
  },
  {
   "cell_type": "code",
   "execution_count": 40,
   "metadata": {},
   "outputs": [],
   "source": [
    "# write your code!"
   ]
  },
  {
   "cell_type": "markdown",
   "metadata": {},
   "source": [
    "Calculate $V^{met}$, $S_{lat}^{met}$, $S_{up}^{met}$ (hint: in order to vary $H^{met}$ later on, do such calculations in a function)"
   ]
  },
  {
   "cell_type": "code",
   "execution_count": 41,
   "metadata": {},
   "outputs": [],
   "source": [
    "# write your code!"
   ]
  },
  {
   "cell_type": "markdown",
   "metadata": {},
   "source": [
    "Consider the Globe&Dropkin (resp. turbulent Chawla&Chan) for upward (resp.lateral ) heat transfer and define the following functions:\n",
    "\n",
    ">$Nu^{met}_{up}\\left[\\Delta T\\right]=0.069\\left(Pr^{met}\\right)^{0.074}\\left(Ra^{met}\\left[\\Delta T\\right]\\right)^{1/3}$\n",
    "\n",
    ">$Nu^{met}_{lat}\\left[\\Delta T\\right]=\\frac{0.16}{\\left(1+\\left(\\frac{0.492}{Pr^{met}}\\right)^{9/16}\\right)^{16/27}}\\left(Ra^{met}\\left[\\Delta T\\right]\\right)^{1/3}$"
   ]
  },
  {
   "cell_type": "code",
   "execution_count": 42,
   "metadata": {},
   "outputs": [],
   "source": [
    "# write your code!"
   ]
  },
  {
   "cell_type": "markdown",
   "metadata": {},
   "source": [
    "## 3.1 Adiabatic top boundary condition"
   ]
  },
  {
   "cell_type": "markdown",
   "metadata": {},
   "source": [
    "Consider an adiabatic boundary at the top of the metal layer <i>i.e.</i> $\\phi^{BC}_{up}=0$\n",
    "\n",
    "Calculate $\\phi_{lat}^{met}$"
   ]
  },
  {
   "cell_type": "code",
   "execution_count": 43,
   "metadata": {},
   "outputs": [],
   "source": [
    "# write your code!"
   ]
  },
  {
   "cell_type": "markdown",
   "metadata": {},
   "source": [
    "Calculate $T^{met}$"
   ]
  },
  {
   "cell_type": "code",
   "execution_count": 44,
   "metadata": {},
   "outputs": [],
   "source": [
    "# write your code!"
   ]
  },
  {
   "cell_type": "markdown",
   "metadata": {},
   "source": [
    "## 3.2 Radiative top boundary condition"
   ]
  },
  {
   "cell_type": "markdown",
   "metadata": {},
   "source": [
    "Consider radiative heat transfer at the top boundary under the simple form $\\phi^{BC}_{up}\\left[T^{met}_{up}\\right]=\\varepsilon_{up}\\sigma\\left(\\left(T^{met}_{up}\\right)^4-\\left(T^{BC}\\right)^4\\right)$ where $\\varepsilon_{up}$ is an \"effective emissivity\" and define the associated function"
   ]
  },
  {
   "cell_type": "code",
   "execution_count": 45,
   "metadata": {},
   "outputs": [],
   "source": [
    "# write your code!"
   ]
  },
  {
   "cell_type": "markdown",
   "metadata": {},
   "source": [
    "Implement an algorithm in order to find $\\left(T^{met},T_{up}^{met}\\right)$"
   ]
  },
  {
   "cell_type": "code",
   "execution_count": 46,
   "metadata": {},
   "outputs": [],
   "source": [
    "# write your code!"
   ]
  },
  {
   "cell_type": "markdown",
   "metadata": {},
   "source": [
    "Calculate $\\left(T^{met},T_{up}^{met},\\phi_{lat}^{met},\\phi_{up}^{met}\\right)$ for $\\varepsilon_{up} = 0.4$ and $T^{BC}=1000$K"
   ]
  },
  {
   "cell_type": "code",
   "execution_count": 47,
   "metadata": {},
   "outputs": [],
   "source": [
    "Tsurroundings=1000\n",
    "emissivity=0.4"
   ]
  },
  {
   "cell_type": "code",
   "execution_count": 48,
   "metadata": {},
   "outputs": [],
   "source": [
    "# write your code!"
   ]
  },
  {
   "cell_type": "markdown",
   "metadata": {},
   "source": [
    "## 3.3 Parametric studies"
   ]
  },
  {
   "cell_type": "markdown",
   "metadata": {},
   "source": [
    "### Varying $\\varepsilon_{up}$ and $T^{BC}$"
   ]
  },
  {
   "cell_type": "code",
   "execution_count": 49,
   "metadata": {},
   "outputs": [],
   "source": [
    "# write your code!"
   ]
  },
  {
   "cell_type": "markdown",
   "metadata": {},
   "source": [
    "### Varying $H^{met}$"
   ]
  },
  {
   "cell_type": "code",
   "execution_count": 50,
   "metadata": {},
   "outputs": [],
   "source": [
    "# write your code!"
   ]
  }
 ],
 "metadata": {
  "kernelspec": {
   "display_name": "Python 3",
   "language": "python",
   "name": "python3"
  },
  "language_info": {
   "codemirror_mode": {
    "name": "ipython",
    "version": 3
   },
   "file_extension": ".py",
   "mimetype": "text/x-python",
   "name": "python",
   "nbconvert_exporter": "python",
   "pygments_lexer": "ipython3",
   "version": "3.7.3"
  }
 },
 "nbformat": 4,
 "nbformat_minor": 4
}
