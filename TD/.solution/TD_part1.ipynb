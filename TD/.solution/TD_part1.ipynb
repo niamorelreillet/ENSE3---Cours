{
 "cells": [
  {
   "cell_type": "markdown",
   "metadata": {},
   "source": [
    " # Stationary thermal balance of a two-layer corium pool\n",
    "---"
   ]
  },
  {
   "cell_type": "code",
   "execution_count": 112,
   "metadata": {},
   "outputs": [],
   "source": [
    "import sympy\n",
    "import math\n",
    "import numpy as np\n",
    "import matplotlib.pyplot as plt\n",
    "import scipy"
   ]
  },
  {
   "cell_type": "code",
   "execution_count": 113,
   "metadata": {},
   "outputs": [],
   "source": [
    "from math import pi  \n",
    "g = 9.81\n",
    "sigma = 5.67E-08"
   ]
  },
  {
   "cell_type": "markdown",
   "metadata": {},
   "source": [
    "Set decay power and hemisphere radius"
   ]
  },
  {
   "cell_type": "code",
   "execution_count": 114,
   "metadata": {},
   "outputs": [],
   "source": [
    "Pres=15E6\n",
    "R=2"
   ]
  },
  {
   "cell_type": "markdown",
   "metadata": {},
   "source": [
    "## 1. Oxide pool"
   ]
  },
  {
   "cell_type": "markdown",
   "metadata": {},
   "source": [
    "Set $\\rho^{ox},\\lambda^{ox},\\nu^{ox},Cp^{ox},\\beta^{ox},T_{liq}^{ox},H^{ox}$"
   ]
  },
  {
   "cell_type": "code",
   "execution_count": 115,
   "metadata": {},
   "outputs": [],
   "source": [
    "oxide = {\n",
    "      \"rho\":    8000,\n",
    "      \"lambda\": 5,\n",
    "      \"nu\":     5E-7,\n",
    "      \"Cp\":     500,\n",
    "      \"beta\":   1E-4,\n",
    "      \"Tliq\":   2900,\n",
    "      \"H\":      1.5\n",
    "    }"
   ]
  },
  {
   "cell_type": "markdown",
   "metadata": {},
   "source": [
    "Calculate $V^{ox}$, $S_{lat}^{ox}$, $S_{up}^{ox}$"
   ]
  },
  {
   "cell_type": "markdown",
   "metadata": {},
   "source": [
    ">$V^{ox}=\\frac{\\pi}{3}\\left(H^{ox}\\right)^2\\left(3R-H^{ox}\\right)$\n",
    "\n",
    ">$S_{lat}^{ox}=2\\pi R H^{ox}$\n",
    "\n",
    ">$S_{up}^{ox}=\\pi\\left(R^2-\\left(R-H^{ox}\\right)^2\\right)$"
   ]
  },
  {
   "cell_type": "code",
   "execution_count": 116,
   "metadata": {},
   "outputs": [
    {
     "name": "stdout",
     "output_type": "stream",
     "text": [
      "V_ox=1.060288e+01, Slat_ox=1.884956e+01, Sup_ox=1.178097e+01\n"
     ]
    }
   ],
   "source": [
    "V_ox = pi/3*oxide[\"H\"]**2*(3*R-oxide[\"H\"])\n",
    "Slat_ox=2*pi*R*oxide[\"H\"]\n",
    "Sup_ox=pi*(R**2-(R-oxide[\"H\"])**2)\n",
    "print('V_ox={0:e}, Slat_ox={1:e}, Sup_ox={2:e}'.format(V_ox, Slat_ox, Sup_ox))"
   ]
  },
  {
   "cell_type": "markdown",
   "metadata": {},
   "source": [
    "Calculate $Ra_i^{ox}$"
   ]
  },
  {
   "cell_type": "markdown",
   "metadata": {},
   "source": [
    ">$q^{ox} = \\frac{P_{res}}{V^{ox}}$\n",
    "\n",
    ">$\\alpha^{ox}=\\frac{\\lambda^{ox}}{\\rho^{ox}Cp^{ox}}$\n",
    "\n",
    ">$Ra_i^{ox}=\\frac{g\\left(H^{ox}\\right)^5q^{ox}\\beta^{ox}}{\\lambda^{ox}\\nu^{ox}\\alpha^{ox}}$"
   ]
  },
  {
   "cell_type": "code",
   "execution_count": 117,
   "metadata": {},
   "outputs": [
    {
     "name": "stdout",
     "output_type": "stream",
     "text": [
      "q_ox=1.414711e+06\n",
      "Rai_ox=3.372430e+15\n"
     ]
    }
   ],
   "source": [
    "q_ox = Pres / V_ox\n",
    "print('q_ox={0:e}'.format(q_ox))\n",
    "oxide[\"alpha\"]=oxide[\"lambda\"]/(oxide[\"rho\"]*oxide[\"Cp\"])\n",
    "Rai_ox=g*oxide[\"H\"]**5*q_ox*oxide[\"beta\"]/(oxide[\"lambda\"]*oxide[\"nu\"]*oxide[\"alpha\"])\n",
    "print('Rai_ox={0:e}'.format(Rai_ox))"
   ]
  },
  {
   "cell_type": "markdown",
   "metadata": {},
   "source": [
    "Calculate $Nu^{ox}_{lat}$ based on \"BALI downward\" correlation $Nu^{ox}_{lat}=0.131\\left(Ra_i^{ox}\\right)^{0.25}\\left(\\frac{H^{ox}}{R}\\right)^{0.19}$"
   ]
  },
  {
   "cell_type": "code",
   "execution_count": 118,
   "metadata": {},
   "outputs": [
    {
     "name": "stdout",
     "output_type": "stream",
     "text": [
      "Nulat_ox=9.451890e+02 (htc=3150.629997)\n"
     ]
    }
   ],
   "source": [
    "Nulat_ox=0.131*Rai_ox**0.25*(oxide[\"H\"]/R)**0.19\n",
    "htc = oxide[\"lambda\"]*Nulat_ox/oxide[\"H\"]\n",
    "print('Nulat_ox={0:e} (htc={1:f})'.format(Nulat_ox,htc))"
   ]
  },
  {
   "cell_type": "markdown",
   "metadata": {},
   "source": [
    "Calculate $Nu^{ox}_{up}$ based on \"BALI upward\" correlation $Nu^{ox}_{up}=0.381\\left(Ra_i^{ox}\\right)^{0.234}$"
   ]
  },
  {
   "cell_type": "code",
   "execution_count": 119,
   "metadata": {},
   "outputs": [
    {
     "name": "stdout",
     "output_type": "stream",
     "text": [
      "Nuup_ox=1.638565e+03 (htc=5461.882553)\n"
     ]
    }
   ],
   "source": [
    "Nuup_ox=0.381*Rai_ox**0.234\n",
    "htc = oxide[\"lambda\"]*Nuup_ox/oxide[\"H\"]\n",
    "print('Nuup_ox={0:e} (htc={1:f})'.format(Nuup_ox,htc))"
   ]
  },
  {
   "cell_type": "markdown",
   "metadata": {},
   "source": [
    "Calculate $T^{ox}$"
   ]
  },
  {
   "cell_type": "markdown",
   "metadata": {},
   "source": [
    ">$T^{ox}=T^{ox}_{liq}+P_{res}\\frac{H^{ox}}{\\lambda^{ox}}\\left(Nu_{lat}^{ox}S_{lat}^{ox}+Nu_{up}^{ox}S_{up}^{ox}\\right)^{-1}$"
   ]
  },
  {
   "cell_type": "code",
   "execution_count": 120,
   "metadata": {},
   "outputs": [
    {
     "name": "stdout",
     "output_type": "stream",
     "text": [
      "T_ox=3021.2\n"
     ]
    }
   ],
   "source": [
    "T_ox=oxide[\"Tliq\"]+Pres*oxide[\"H\"]/oxide[\"lambda\"]/(Nulat_ox*Slat_ox+Nuup_ox*Sup_ox)\n",
    "print('T_ox={0:5.1f}'.format(T_ox))"
   ]
  },
  {
   "cell_type": "markdown",
   "metadata": {},
   "source": [
    "Calculate $\\phi_{lat}^{ox}$ and $\\phi_{up}^{ox}$"
   ]
  },
  {
   "cell_type": "markdown",
   "metadata": {},
   "source": [
    ">$\\phi_{\\star}^{ox}=\\left(\\frac{\\lambda^{ox}}{H^{ox}}Nu_{\\star}^{ox}\\right)\\left(T^{ox}-T^{ox}_{liq}\\right)$"
   ]
  },
  {
   "cell_type": "code",
   "execution_count": 121,
   "metadata": {},
   "outputs": [
    {
     "name": "stdout",
     "output_type": "stream",
     "text": [
      "philat_ox=3.819431e+05, phiup_ox=6.621306e+05\n"
     ]
    }
   ],
   "source": [
    "philat_ox=oxide[\"lambda\"]/oxide[\"H\"]*Nulat_ox*(T_ox-oxide[\"Tliq\"])\n",
    "phiup_ox=oxide[\"lambda\"]/oxide[\"H\"]*Nuup_ox*(T_ox-oxide[\"Tliq\"])\n",
    "print('philat_ox={0:e}, phiup_ox={1:e}'.format(philat_ox, phiup_ox))"
   ]
  },
  {
   "cell_type": "code",
   "execution_count": 122,
   "metadata": {},
   "outputs": [
    {
     "name": "stdout",
     "output_type": "stream",
     "text": [
      "power partition lat=48.00%, up=52.00%\n"
     ]
    }
   ],
   "source": [
    "print('power partition lat={0:3.2f}%, up={1:3.2f}%'.format(philat_ox*Slat_ox/Pres*100, phiup_ox*Sup_ox/Pres*100))"
   ]
  },
  {
   "cell_type": "markdown",
   "metadata": {},
   "source": [
    "Plot the lateral flux profile $\\varphi_{lat}^{ox}(z) = \\phi_{lat}^{ox} f(z)$ along the vessel wall (considering the following shape function $f(z)$) and compare its maximum value to the pessimistic value of 1.5MW.m$^{-2}$ for the critical heaf flux associated with the external cooling of the vessel wall"
   ]
  },
  {
   "cell_type": "markdown",
   "metadata": {},
   "source": [
    ">$f(z)=0.25+0.75 \\times c \\times \\cos^3(\\theta)$ \n",
    "\n",
    "> with $\\displaystyle \\theta=\\sin^{-1}\\left(1-\\frac{z}{R} \\right)$, $\\displaystyle \\theta^{ox}=\\sin^{-1}\\left(1-\\frac{H^{ox}}{R} \\right)$\n",
    "\n",
    "> and $\\displaystyle c = \\frac{8\\left(1-\\sin\\theta^{ox}\\right)}{3\\left(\\frac{\\pi}{2} - \\theta^{ox}\\right)-3\\sin\\theta^{ox}\\cos\\theta^{ox} - 2\\sin\\theta^{ox}\\cos^3\\theta^{ox}}$ "
   ]
  },
  {
   "cell_type": "code",
   "execution_count": 123,
   "metadata": {},
   "outputs": [
    {
     "name": "stdout",
     "output_type": "stream",
     "text": [
      "1.4999999999876181\n"
     ]
    },
    {
     "data": {
      "image/png": "[encoded data removed]",
      "text/plain": [
       "<Figure size 360x360 with 1 Axes>"
      ]
     },
     "metadata": {
      "needs_background": "light"
     },
     "output_type": "display_data"
    }
   ],
   "source": [
    "theta_ox = np.arcsin(1-oxide[\"H\"]/R)\n",
    "cb=8*(1-np.sin(theta_ox))/(3*(math.pi/2 - theta_ox)-3*np.sin(theta_ox)*np.cos(theta_ox)-2*np.sin(theta_ox)*np.cos(theta_ox)**3)\n",
    "def shapeFunction(z):\n",
    "    theta = np.arcsin(1-z/R)\n",
    "    return 0.25 + 0.75*cb*np.cos(theta)**3\n",
    "\n",
    "# verify that the integral is correct (\\int_O^{H^{ox}} f(z) dz = H^{ox})\n",
    "import scipy.integrate as integrate\n",
    "integral, error = integrate.quad(shapeFunction, 0, oxide[\"H\"])\n",
    "print(integral)\n",
    "\n",
    "z=np.linspace(0,oxide[\"H\"],50)\n",
    "philat_ox_profile=philat_ox*shapeFunction(z)\n",
    "plt.rcParams[\"figure.figsize\"] = (5,5)\n",
    "fig,ax = plt.subplots(constrained_layout=True)\n",
    "csf = ax.plot(z, philat_ox_profile, marker=\"x\")\n",
    "ax.set_xlabel(\"z (m)\",fontsize=14)\n",
    "ax.set_ylabel(\"$\\phi_{lat}^{ox}$ (W.m$^{-2}$)\",fontsize=14)\n",
    "ax.grid(True)"
   ]
  },
  {
   "cell_type": "markdown",
   "metadata": {},
   "source": [
    "# Saving python script for use out of Jupyter"
   ]
  },
  {
   "cell_type": "code",
   "execution_count": 124,
   "metadata": {},
   "outputs": [
    {
     "name": "stdout",
     "output_type": "stream",
     "text": [
      "[NbConvertApp] Converting notebook TD_part1.ipynb to script\n",
      "[NbConvertApp] Writing 9003 bytes to TD_part1.py\n",
      "[NbConvertApp] Converting notebook TD_part1.ipynb to PDF\n",
      "[NbConvertApp] Support files will be in TD_part1_files/\n",
      "[NbConvertApp] Making directory ./TD_part1_files\n",
      "[NbConvertApp] Writing 54772 bytes to notebook.tex\n",
      "[NbConvertApp] Building PDF\n",
      "[NbConvertApp] Running xelatex 3 times: ['xelatex', 'notebook.tex', '-quiet']\n",
      "[NbConvertApp] Running bibtex 1 time: ['bibtex', 'notebook']\n",
      "[NbConvertApp] WARNING | bibtex had problems, most likely because there were no citations\n",
      "[NbConvertApp] PDF successfully created\n",
      "[NbConvertApp] Writing 98856 bytes to TD_part1.pdf\n"
     ]
    }
   ],
   "source": [
    "!/home/rl211391/.local/bin/jupyter nbconvert --to script TD_part1.ipynb\n",
    "!/home/rl211391/.local/bin/jupyter nbconvert --to PDF TD_part1.ipynb"
   ]
  },
  {
   "cell_type": "markdown",
   "metadata": {},
   "source": [
    "# 2. Refractory crust and vessel wall ablation"
   ]
  },
  {
   "cell_type": "code",
   "execution_count": 125,
   "metadata": {},
   "outputs": [],
   "source": [
    "vessel = {\n",
    "      \"lambda\": 40,\n",
    "      \"e\":     0.2,\n",
    "      \"Tfus\": 1700,\n",
    "    }\n",
    "Tbc=500"
   ]
  },
  {
   "cell_type": "markdown",
   "metadata": {},
   "source": [
    "Calculate and plot the crust thickness and vessel wall residual thickness as a function of height ($z \\in [0,H^{ox}]$)"
   ]
  },
  {
   "cell_type": "code",
   "execution_count": 126,
   "metadata": {},
   "outputs": [],
   "source": [
    "# write your code!"
   ]
  },
  {
   "cell_type": "markdown",
   "metadata": {},
   "source": [
    "# 3. Metallic pool"
   ]
  },
  {
   "cell_type": "markdown",
   "metadata": {},
   "source": [
    "Set $\\rho^{met},\\lambda^{met},\\nu^{met},Cp^{met},\\beta^{met},T_{liq}^{met},H^{met}$"
   ]
  },
  {
   "cell_type": "code",
   "execution_count": 127,
   "metadata": {},
   "outputs": [],
   "source": [
    "metal = {\n",
    "      \"rho\":    7000,\n",
    "      \"lambda\": 25,\n",
    "      \"nu\":     5E-7,\n",
    "      \"Cp\":     800.0,\n",
    "      \"beta\":   1E-4,\n",
    "      \"Tliq\":   1700,\n",
    "      \"H\":      0.5\n",
    "    }"
   ]
  },
  {
   "cell_type": "markdown",
   "metadata": {},
   "source": [
    "Calculate $Pr^{met}$\n",
    "\n",
    "Define function $Ra^{met}\\left[\\Delta T\\right]$ and evaluate it for $\\Delta T=100$K\n",
    "\n",
    "Shall we expect a turbulent or laminar flow?"
   ]
  },
  {
   "cell_type": "markdown",
   "metadata": {},
   "source": [
    ">$\\alpha^{met}=\\frac{\\lambda^{met}}{\\rho^{met}Cp^{ox}}$\n",
    "\n",
    ">$Pr^{met}=\\frac{\\nu^{met}}{\\alpha^{met}}$\n",
    "\n",
    ">$Ra^{met}\\left[\\Delta T\\right]=\\frac{g\\beta^{met}\\left(H^{met}\\right)^3 \\Delta T}{\\nu^{met}\\alpha^{met}}$"
   ]
  },
  {
   "cell_type": "code",
   "execution_count": 128,
   "metadata": {},
   "outputs": [
    {
     "name": "stdout",
     "output_type": "stream",
     "text": [
      "Pr_met=0.11\n",
      "Ra_met(100)=5.493600e+09\n"
     ]
    }
   ],
   "source": [
    "metal[\"alpha\"]=metal[\"lambda\"]/(metal[\"rho\"]*metal[\"Cp\"])\n",
    "Pr_met=metal[\"nu\"]/metal[\"alpha\"]\n",
    "print('Pr_met={0:3.2f}'.format(Pr_met))\n",
    "RA_met= lambda deltaT: g*metal[\"beta\"]*metal[\"H\"]**3*deltaT/(metal[\"nu\"]*metal[\"alpha\"])\n",
    "print('Ra_met(100)={0:e}'.format(RA_met(100)))"
   ]
  },
  {
   "cell_type": "markdown",
   "metadata": {},
   "source": [
    "Calculate $V^{met}$, $S_{lat}^{met}$, $S_{up}^{met}$ (hint: in order to vary $H^{met}$ later on, do such calculations in a function)"
   ]
  },
  {
   "cell_type": "code",
   "execution_count": 129,
   "metadata": {},
   "outputs": [
    {
     "name": "stdout",
     "output_type": "stream",
     "text": [
      "V_met=6.152286e+00, Slat_met=6.283185e+00, Sup_met=1.256637e+01\n"
     ]
    }
   ],
   "source": [
    "def MetalGeometry():\n",
    "    V_hem = 2*pi/3*R**3\n",
    "    H_tot = oxide[\"H\"] + metal[\"H\"]\n",
    "    H_cyl = H_tot - R\n",
    "    if (H_cyl>=0):\n",
    "        V_cyl = pi*R**2*H_cyl\n",
    "        V_met = V_hem - V_ox + V_cyl\n",
    "        Slat_hem = 2*pi*R*(R-oxide[\"H\"])\n",
    "        Slat_cyl = 2*pi*R*H_cyl\n",
    "        Slat_met=Slat_hem + Slat_cyl\n",
    "        Sup_met=pi*R**2\n",
    "    else:\n",
    "        V_met = pi/3*H_tot**2*(3*R-H_tot)-V_ox\n",
    "        Slat_met=2*pi*R*metal[\"H\"]\n",
    "        Sup_met=pi*(R**2-(R-H_tot)**2)\n",
    "    return V_met, Slat_met, Sup_met\n",
    "V_met, Slat_met, Sup_met = MetalGeometry()\n",
    "print('V_met={0:e}, Slat_met={1:e}, Sup_met={2:e}'.format(V_met, Slat_met, Sup_met))"
   ]
  },
  {
   "cell_type": "markdown",
   "metadata": {},
   "source": [
    "Consider the Globe&Dropkin (resp. turbulent Chawla&Chan) for upward (resp.lateral ) heat transfer and define the following functions:\n",
    "\n",
    ">$Nu^{met}_{up}\\left[\\Delta T\\right]=0.069\\left(Pr^{met}\\right)^{0.074}\\left(Ra^{met}\\left[\\Delta T\\right]\\right)^{1/3}$\n",
    "\n",
    ">$Nu^{met}_{lat}\\left[\\Delta T\\right]=\\frac{0.16}{\\left(1+\\left(\\frac{0.492}{Pr^{met}}\\right)^{9/16}\\right)^{16/27}}\\left(Ra^{met}\\left[\\Delta T\\right]\\right)^{1/3}$"
   ]
  },
  {
   "cell_type": "code",
   "execution_count": 130,
   "metadata": {},
   "outputs": [],
   "source": [
    "NUup_met=lambda DeltaT: 0.069*Pr_met**0.074*RA_met(DeltaT)**(1/3)\n",
    "NUlat_met=lambda DeltaT: 0.16/(1+(0.492/Pr_met)**(9/16))**(16/27)*RA_met(DeltaT)**(1/3)\n",
    "PHIup_met=lambda DeltaT: metal[\"lambda\"]/metal[\"H\"]*NUup_met(DeltaT)*DeltaT\n",
    "PHIlat_met=lambda DeltaT: metal[\"lambda\"]/metal[\"H\"]*NUlat_met(DeltaT)*DeltaT"
   ]
  },
  {
   "cell_type": "markdown",
   "metadata": {},
   "source": [
    "## 3.1 Adiabatic top boundary condition"
   ]
  },
  {
   "cell_type": "markdown",
   "metadata": {},
   "source": [
    "Consider an adiabatic boundary at the top of the metal layer <i>i.e.</i> $\\phi^{BC}_{up}=0$\n",
    "\n",
    "Calculate $\\phi_{lat}^{met}$"
   ]
  },
  {
   "cell_type": "code",
   "execution_count": 131,
   "metadata": {},
   "outputs": [
    {
     "name": "stdout",
     "output_type": "stream",
     "text": [
      "philat_met=1.241495e+06, phiup_met=0.000000e+00\n"
     ]
    }
   ],
   "source": [
    "philat_met=phiup_ox*Sup_ox/Slat_met\n",
    "print('philat_met={0:e}, phiup_met={1:e}'.format(philat_met, 0.0))"
   ]
  },
  {
   "cell_type": "markdown",
   "metadata": {},
   "source": [
    "Calculate $T^{met}$"
   ]
  },
  {
   "cell_type": "code",
   "execution_count": 132,
   "metadata": {},
   "outputs": [
    {
     "name": "stdout",
     "output_type": "stream",
     "text": [
      "T_met=1854.4\n"
     ]
    }
   ],
   "source": [
    "T_met=metal[\"Tliq\"]+(philat_met/(metal[\"lambda\"] * 0.16/(1+(0.492/Pr_met)**(9/16))**(16/27)))**(3/4)*((metal[\"nu\"]*metal[\"alpha\"])/(g*metal[\"beta\"]))**(1/4)\n",
    "print('T_met={0:5.1f}'.format(T_met))"
   ]
  },
  {
   "cell_type": "markdown",
   "metadata": {},
   "source": [
    "## 3.2 Radiative top boundary condition"
   ]
  },
  {
   "cell_type": "markdown",
   "metadata": {},
   "source": [
    "Consider radiative heat transfer at the top boundary under the simple form $\\phi^{BC}_{up}\\left[T^{met}_{up}\\right]=\\varepsilon_{up}\\sigma\\left(\\left(T^{met}_{up}\\right)^4-\\left(T^{BC}\\right)^4\\right)$ where $\\varepsilon_{up}$ is an \"effective emissivity\" and define the associated function"
   ]
  },
  {
   "cell_type": "code",
   "execution_count": 133,
   "metadata": {},
   "outputs": [],
   "source": [
    "# write your code!"
   ]
  },
  {
   "cell_type": "markdown",
   "metadata": {},
   "source": [
    "Implement an algorithm in order to find $\\left(T^{met},T_{up}^{met}\\right)$"
   ]
  },
  {
   "cell_type": "code",
   "execution_count": 134,
   "metadata": {},
   "outputs": [],
   "source": [
    "# write your code!"
   ]
  },
  {
   "cell_type": "markdown",
   "metadata": {},
   "source": [
    "Calculate $\\left(T^{met},T_{up}^{met},\\phi_{lat}^{met},\\phi_{up}^{met}\\right)$ for $\\varepsilon_{up} = 0.4$ and $T^{BC}=1000$K"
   ]
  },
  {
   "cell_type": "code",
   "execution_count": 135,
   "metadata": {},
   "outputs": [],
   "source": [
    "Tsurroundings=1000\n",
    "emissivity=0.4"
   ]
  },
  {
   "cell_type": "code",
   "execution_count": 136,
   "metadata": {},
   "outputs": [],
   "source": [
    "# write your code!"
   ]
  },
  {
   "cell_type": "markdown",
   "metadata": {},
   "source": [
    "## 3.3 Parametric studies"
   ]
  },
  {
   "cell_type": "markdown",
   "metadata": {},
   "source": [
    "### Varying $\\varepsilon_{up}$ and $T^{BC}$"
   ]
  },
  {
   "cell_type": "code",
   "execution_count": 137,
   "metadata": {},
   "outputs": [],
   "source": [
    "# write your code!"
   ]
  },
  {
   "cell_type": "markdown",
   "metadata": {},
   "source": [
    "### Varying $H^{met}$"
   ]
  },
  {
   "cell_type": "code",
   "execution_count": 138,
   "metadata": {},
   "outputs": [],
   "source": [
    "# write your code!"
   ]
  },
  {
   "cell_type": "markdown",
   "metadata": {},
   "source": [
    "# Saving python script for use out of Jupyter"
   ]
  },
  {
   "cell_type": "code",
   "execution_count": 139,
   "metadata": {},
   "outputs": [
    {
     "name": "stdout",
     "output_type": "stream",
     "text": [
      "[NbConvertApp] Converting notebook TD_part1.ipynb to script\n",
      "[NbConvertApp] Writing 9003 bytes to TD_part1.py\n",
      "[NbConvertApp] Converting notebook TD_part1.ipynb to PDF\n",
      "[NbConvertApp] Support files will be in TD_part1_files/\n",
      "[NbConvertApp] Making directory ./TD_part1_files\n",
      "[NbConvertApp] Writing 54772 bytes to notebook.tex\n",
      "[NbConvertApp] Building PDF\n",
      "[NbConvertApp] Running xelatex 3 times: ['xelatex', 'notebook.tex', '-quiet']\n",
      "[NbConvertApp] Running bibtex 1 time: ['bibtex', 'notebook']\n",
      "[NbConvertApp] WARNING | bibtex had problems, most likely because there were no citations\n",
      "[NbConvertApp] PDF successfully created\n",
      "[NbConvertApp] Writing 98850 bytes to TD_part1.pdf\n"
     ]
    }
   ],
   "source": [
    "!/home/rl211391/.local/bin/jupyter nbconvert --to script TD_part1.ipynb\n",
    "!/home/rl211391/.local/bin/jupyter nbconvert --to PDF TD_part1.ipynb"
   ]
  }
 ],
 "metadata": {
  "kernelspec": {
   "display_name": "Python 3",
   "language": "python",
   "name": "python3"
  },
  "language_info": {
   "codemirror_mode": {
    "name": "ipython",
    "version": 3
   },
   "file_extension": ".py",
   "mimetype": "text/x-python",
   "name": "python",
   "nbconvert_exporter": "python",
   "pygments_lexer": "ipython3",
   "version": "3.7.3"
  }
 },
 "nbformat": 4,
 "nbformat_minor": 4
}
